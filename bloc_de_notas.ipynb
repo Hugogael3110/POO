{
  "nbformat": 4,
  "nbformat_minor": 0,
  "metadata": {
    "colab": {
      "provenance": [],
      "authorship_tag": "ABX9TyN4K21a8EEDgXXskQZi0nG3",
      "include_colab_link": true
    },
    "kernelspec": {
      "name": "python3",
      "display_name": "Python 3"
    },
    "language_info": {
      "name": "python"
    }
  },
  "cells": [
    {
      "cell_type": "markdown",
      "metadata": {
        "id": "view-in-github",
        "colab_type": "text"
      },
      "source": [
        "<a href=\"https://colab.research.google.com/github/Hugogael3110/POO/blob/main/bloc_de_notas.ipynb\" target=\"_parent\"><img src=\"https://colab.research.google.com/assets/colab-badge.svg\" alt=\"Open In Colab\"/></a>"
      ]
    },
    {
      "cell_type": "code",
      "execution_count": null,
      "metadata": {
        "id": "LX9Qxlg-PSAU"
      },
      "outputs": [],
      "source": [
        "!pip install streamlit -q"
      ]
    },
    {
      "cell_type": "code",
      "source": [
        "%%writefile app.py\n",
        "import streamlit as st\n",
        "from typing import List\n",
        "\n",
        "# Clase base Nota\n",
        "class Nota:\n",
        "    def __init__(self, titulo: str, contenido: str):\n",
        "        self.titulo = titulo\n",
        "        self.contenido = contenido\n",
        "\n",
        "    def mostrar(self):\n",
        "        return f\"{self.titulo}: {self.contenido}\"\n",
        "\n",
        "    def modificar(self, nuevo_contenido: str):\n",
        "        self.contenido = nuevo_contenido\n",
        "\n",
        "# Clases derivadas\n",
        "class NotaTexto(Nota):\n",
        "    def formatear_texto(self, formato: str):\n",
        "        if formato == \"mayusculas\":\n",
        "            self.contenido = self.contenido.upper()\n",
        "        elif formato == \"minusculas\":\n",
        "            self.contenido = self.contenido.lower()\n",
        "\n",
        "class NotaLista(Nota):\n",
        "    def __init__(self, titulo: str, elementos: List[str]):\n",
        "        super().__init__(titulo, \"\\n\".join(elementos))\n",
        "        self.elementos = elementos\n",
        "\n",
        "    def agregar_elemento(self, elemento: str):\n",
        "        self.elementos.append(elemento)\n",
        "        self.contenido = \"\\n\".join(self.elementos)\n",
        "\n",
        "class NotaImagen(Nota):\n",
        "    def __init__(self, titulo: str, imagen_bytes):\n",
        "        super().__init__(titulo, \"\")\n",
        "        self.imagen_bytes = imagen_bytes\n",
        "\n",
        "# Clase BlocDeNotas\n",
        "class BlocDeNotas:\n",
        "    def __init__(self):\n",
        "        self.notas = []\n",
        "\n",
        "    def agregar_nota(self, nota: Nota):\n",
        "        self.notas.append(nota)\n",
        "\n",
        "    def mostrar_notas(self):\n",
        "        return [nota.mostrar() for nota in self.notas]\n",
        "\n",
        "    def buscar_nota(self, titulo: str):\n",
        "        for nota in self.notas:\n",
        "            if nota.titulo == titulo:\n",
        "                return nota.mostrar()\n",
        "        return \"Nota no encontrada\"\n",
        "\n",
        "    def eliminar_nota(self, titulo: str):\n",
        "        self.notas = [nota for nota in self.notas if nota.titulo != titulo]\n",
        "\n",
        "# Inicializar Bloc de Notas\n",
        "bloc = BlocDeNotas()\n",
        "\n",
        "st.title(\"Bloc de Notas Interactivo\")\n",
        "\n",
        "# Entrada de datos\n",
        "titulo = st.text_input(\"Título de la nota\")\n",
        "tipo = st.selectbox(\"Tipo de nota\", [\"Texto\", \"Lista\", \"Imagen\"])\n",
        "\n",
        "contenido = None\n",
        "imagen_subida = None\n",
        "\n",
        "if tipo == \"Texto\" or tipo == \"Lista\":\n",
        "    contenido = st.text_area(\"Contenido de la nota\")\n",
        "elif tipo == \"Imagen\":\n",
        "    imagen_subida = st.file_uploader(\"Sube una imagen\", type=[\"png\", \"jpg\", \"jpeg\"])\n",
        "\n",
        "# Botón para agregar nota\n",
        "if st.button(\"Agregar Nota\"):\n",
        "    if tipo == \"Texto\":\n",
        "        nota = NotaTexto(titulo, contenido)\n",
        "    elif tipo == \"Lista\":\n",
        "        elementos = contenido.split(\"\\n\")\n",
        "        nota = NotaLista(titulo, elementos)\n",
        "    elif tipo == \"Imagen\" and imagen_subida:\n",
        "        nota = NotaImagen(titulo, imagen_subida.read())\n",
        "    else:\n",
        "        st.error(\"Por favor, proporciona contenido válido.\")\n",
        "        nota = None\n",
        "\n",
        "    if nota:\n",
        "        bloc.agregar_nota(nota)\n",
        "        st.success(\"Nota agregada\")\n",
        "\n",
        "# Mostrar Notas Guardadas\n",
        "st.subheader(\"Notas Guardadas\")\n",
        "for nota in bloc.notas:\n",
        "    st.write(nota.mostrar())\n",
        "    if isinstance(nota, NotaImagen):\n",
        "        st.image(nota.imagen_bytes)\n",
        "\n",
        "# Buscar Notas\n",
        "buscar_titulo = st.text_input(\"Buscar nota por título\")\n",
        "if st.button(\"Buscar\"):\n",
        "    resultado = bloc.buscar_nota(buscar_titulo)\n",
        "    st.write(resultado)\n",
        "\n",
        "# Eliminar Notas\n",
        "eliminar_titulo = st.text_input(\"Eliminar nota por título\")\n",
        "if st.button(\"Eliminar\"):\n",
        "    bloc.eliminar_nota(eliminar_titulo)\n",
        "    st.success(\"Nota eliminada\")"
      ],
      "metadata": {
        "colab": {
          "base_uri": "https://localhost:8080/"
        },
        "id": "lRLPu9_JRf7s",
        "outputId": "c9144713-4607-483d-86cc-69698777b3e9"
      },
      "execution_count": null,
      "outputs": [
        {
          "output_type": "stream",
          "name": "stdout",
          "text": [
            "Overwriting app.py\n"
          ]
        }
      ]
    },
    {
      "cell_type": "code",
      "source": [
        "!npm install localtunnel"
      ],
      "metadata": {
        "colab": {
          "base_uri": "https://localhost:8080/"
        },
        "id": "2lUlY0QdboBx",
        "outputId": "d4235685-2c60-45a8-9748-c2d7a7037d51"
      },
      "execution_count": null,
      "outputs": [
        {
          "output_type": "stream",
          "name": "stdout",
          "text": [
            "\u001b[1G\u001b[0K⠙\u001b[1G\u001b[0K⠹\u001b[1G\u001b[0K⠸\u001b[1G\u001b[0K⠼\u001b[1G\u001b[0K⠴\u001b[1G\u001b[0K⠦\u001b[1G\u001b[0K⠧\u001b[1G\u001b[0K⠇\u001b[1G\u001b[0K\n",
            "up to date, audited 23 packages in 1s\n",
            "\u001b[1G\u001b[0K⠇\u001b[1G\u001b[0K\n",
            "\u001b[1G\u001b[0K⠇\u001b[1G\u001b[0K3 packages are looking for funding\n",
            "\u001b[1G\u001b[0K⠇\u001b[1G\u001b[0K  run `npm fund` for details\n",
            "\u001b[1G\u001b[0K⠇\u001b[1G\u001b[0K\n",
            "2 \u001b[31m\u001b[1mhigh\u001b[22m\u001b[39m severity vulnerabilities\n",
            "\n",
            "To address all issues (including breaking changes), run:\n",
            "  npm audit fix --force\n",
            "\n",
            "Run `npm audit` for details.\n",
            "\u001b[1G\u001b[0K⠏\u001b[1G\u001b[0K"
          ]
        }
      ]
    },
    {
      "cell_type": "code",
      "source": [
        "!streamlit run app.py &>/content/logs.txt & npx localtunnel --port 8501 & curl ipv4.icanhazip.com"
      ],
      "metadata": {
        "colab": {
          "base_uri": "https://localhost:8080/"
        },
        "id": "pfDkNFzubuTq",
        "outputId": "37ba90ba-d012-4065-a012-f339775b0865"
      },
      "execution_count": null,
      "outputs": [
        {
          "output_type": "stream",
          "name": "stdout",
          "text": [
            "34.125.171.233\n",
            "\u001b[1G\u001b[0K⠙\u001b[1G\u001b[0Kyour url is: https://clear-feet-stand.loca.lt\n"
          ]
        }
      ]
    }
  ]
}